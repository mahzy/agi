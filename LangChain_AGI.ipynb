{
  "nbformat": 4,
  "nbformat_minor": 0,
  "metadata": {
    "colab": {
      "provenance": [],
      "include_colab_link": true
    },
    "kernelspec": {
      "name": "python3",
      "display_name": "Python 3"
    },
    "language_info": {
      "name": "python"
    }
  },
  "cells": [
    {
      "cell_type": "markdown",
      "metadata": {
        "id": "view-in-github",
        "colab_type": "text"
      },
      "source": [
        "<a href=\"https://colab.research.google.com/github/mahzy/agi/blob/main/LangChain_AGI.ipynb\" target=\"_parent\"><img src=\"https://colab.research.google.com/assets/colab-badge.svg\" alt=\"Open In Colab\"/></a>"
      ]
    },
    {
      "cell_type": "markdown",
      "source": [
        "# LangChain-AGI\n",
        "This notebook is a somewhat facetious attempt at using LangChain to approximate/reach AGI. It consists of an agent (backed by a language model) using tools to answer/execute questions.\n",
        "\n",
        "There are several choices to be made:\n",
        "\n",
        "- What language model to use?\n",
        "- What agent to use?\n",
        "- What tools to use?\n",
        "\n",
        "We will keep this notebook up-to-date with what we believe to be the best combination of all of those, where \"best\" is measured as the highest chance of achieving AGI.\n",
        "\n",
        "At this moment, the answers to those questions are:\n",
        "\n",
        "- What language model to use: OpenAI's `text-davinci-003`\n",
        "- What agent to use: `zero-shot-react-agent`\n",
        "- What tools to use: all of them!"
      ],
      "metadata": {
        "id": "l9PfOJAr_Qth"
      }
    },
    {
      "cell_type": "markdown",
      "source": [
        "### Install and Initialize Agent"
      ],
      "metadata": {
        "id": "e00BbhVaaiRp"
      }
    },
    {
      "cell_type": "code",
      "source": [
        "!pip install langchain openai google-search-results"
      ],
      "metadata": {
        "id": "Y0nT-cEKZ7lT"
      },
      "execution_count": null,
      "outputs": []
    },
    {
      "cell_type": "code",
      "source": [
        "import os\n",
        "os.environ[\"OPENAI_API_KEY\"] = \"\"\n",
        "os.environ[\"SERPAPI_API_KEY\"] = \"\"\n",
        "news_api_key = \"\"\n",
        "tmdb_bearer_token = \"\""
      ],
      "metadata": {
        "id": "zyPFIUz8APec"
      },
      "execution_count": null,
      "outputs": []
    },
    {
      "cell_type": "code",
      "execution_count": null,
      "metadata": {
        "id": "bUSY4CRo_Jg4"
      },
      "outputs": [],
      "source": [
        "from langchain.agents import load_tools, initialize_agent, get_all_tool_names\n",
        "from langchain.llms import OpenAI"
      ]
    },
    {
      "cell_type": "code",
      "source": [
        "tool_names = get_all_tool_names()\n",
        "llm = OpenAI(model_name=\"text-davinci-003\", temperature=0)\n",
        "tools = load_tools(tool_names, llm=llm, news_api_key=news_api_key, tmdb_bearer_token=tmdb_bearer_token)\n",
        "agent = initialize_agent(tools, llm, agent=\"zero-shot-react-description\", verbose=True)"
      ],
      "metadata": {
        "id": "cSxx-i83AcDB"
      },
      "execution_count": null,
      "outputs": []
    },
    {
      "cell_type": "markdown",
      "source": [
        "### Test the Agent Out"
      ],
      "metadata": {
        "id": "wHXGSyGcaexi"
      }
    },
    {
      "cell_type": "code",
      "source": [
        "agent.run(\"How many people live in canada?\")"
      ],
      "metadata": {
        "id": "d5H-KfVQAoYM",
        "colab": {
          "base_uri": "https://localhost:8080/",
          "height": 216
        },
        "outputId": "4858157a-f6b9-4c1b-e753-4377c4ae51a9"
      },
      "execution_count": null,
      "outputs": [
        {
          "output_type": "stream",
          "name": "stdout",
          "text": [
            "\n",
            "\n",
            "\u001b[1m> Entering new AgentExecutor chain...\u001b[0m\n",
            "\u001b[32;1m\u001b[1;3m I need to find a source of information that can answer this question.\n",
            "Action: Search\n",
            "Action Input: \"how many people live in canada\"\u001b[0m\n",
            "Observation: \u001b[33;1m\u001b[1;3mCanada 2020 population is estimated at 37,742,154 people at mid year according to UN data. Canada population is equivalent to 0.48% of the total world ...\u001b[0m\n",
            "Thought:\u001b[32;1m\u001b[1;3m I now know the final answer\n",
            "Final Answer: 37,742,154 people\u001b[0m\n",
            "\u001b[1m> Finished AgentExecutor chain.\u001b[0m\n"
          ]
        },
        {
          "output_type": "execute_result",
          "data": {
            "text/plain": [
              "'37,742,154 people'"
            ],
            "application/vnd.google.colaboratory.intrinsic+json": {
              "type": "string"
            }
          },
          "metadata": {},
          "execution_count": 8
        }
      ]
    },
    {
      "cell_type": "code",
      "source": [
        "agent.run(\"What is 13**.3?\")"
      ],
      "metadata": {
        "id": "72PJfRzjApdK",
        "colab": {
          "base_uri": "https://localhost:8080/",
          "height": 216
        },
        "outputId": "55424042-1f67-47db-d334-7b5734b6936c"
      },
      "execution_count": null,
      "outputs": [
        {
          "output_type": "stream",
          "name": "stdout",
          "text": [
            "\n",
            "\n",
            "\u001b[1m> Entering new AgentExecutor chain...\u001b[0m\n",
            "\u001b[32;1m\u001b[1;3m I need to calculate this\n",
            "Action: Calculator\n",
            "Action Input: 13**.3\u001b[0m\n",
            "Observation: \u001b[38;5;200m\u001b[1;3mAnswer: 2.1544346900318834\u001b[0m\n",
            "Thought:\u001b[32;1m\u001b[1;3m I now know the final answer\n",
            "Final Answer: 2.1544346900318834\u001b[0m\n",
            "\u001b[1m> Finished AgentExecutor chain.\u001b[0m\n"
          ]
        },
        {
          "output_type": "execute_result",
          "data": {
            "text/plain": [
              "'2.1544346900318834'"
            ],
            "application/vnd.google.colaboratory.intrinsic+json": {
              "type": "string"
            }
          },
          "metadata": {},
          "execution_count": 9
        }
      ]
    },
    {
      "cell_type": "code",
      "source": [
        "agent.run(\"How much did it rain in SF today?\")"
      ],
      "metadata": {
        "id": "m62_3Yq5ApaT",
        "colab": {
          "base_uri": "https://localhost:8080/",
          "height": 216
        },
        "outputId": "a8f549c0-b098-4455-a09a-fe19459cecfa"
      },
      "execution_count": null,
      "outputs": [
        {
          "output_type": "stream",
          "name": "stdout",
          "text": [
            "\n",
            "\n",
            "\u001b[1m> Entering new AgentExecutor chain...\u001b[0m\n",
            "\u001b[32;1m\u001b[1;3m I need to find out the weather in SF today\n",
            "Action: Open Meteo API\n",
            "Action Input: How much did it rain in SF today?\u001b[0m\n",
            "Observation: \u001b[36;1m\u001b[1;3m It did not rain in SF today (December 19th, 2022).\u001b[0m\n",
            "Thought:\u001b[32;1m\u001b[1;3m I now know the final answer\n",
            "Final Answer: It did not rain in SF today (December 19th, 2022).\u001b[0m\n",
            "\u001b[1m> Finished AgentExecutor chain.\u001b[0m\n"
          ]
        },
        {
          "output_type": "execute_result",
          "data": {
            "text/plain": [
              "'It did not rain in SF today (December 19th, 2022).'"
            ],
            "application/vnd.google.colaboratory.intrinsic+json": {
              "type": "string"
            }
          },
          "metadata": {},
          "execution_count": 10
        }
      ]
    },
    {
      "cell_type": "code",
      "source": [
        "agent.run(\"get me information about the movie 'Avatar'\")"
      ],
      "metadata": {
        "id": "0_Lj1iHBApW4",
        "colab": {
          "base_uri": "https://localhost:8080/",
          "height": 236
        },
        "outputId": "dd861c51-b84c-4fe4-a6c2-962c774e11a2"
      },
      "execution_count": null,
      "outputs": [
        {
          "output_type": "stream",
          "name": "stdout",
          "text": [
            "\n",
            "\n",
            "\u001b[1m> Entering new AgentExecutor chain...\u001b[0m\n",
            "\u001b[32;1m\u001b[1;3m I should use an API to get this information\n",
            "Action: TMDB API\n",
            "Action Input: \"What is the plot of Avatar?\"\u001b[0m\n",
            "Observation: \u001b[38;5;200m\u001b[1;3m The response from the API contains 57 movies related to the search query \"Avatar\". The first result is the movie \"Avatar\" (2009) which has an overview of \"In the 22nd century, a paraplegic Marine is dispatched to the moon Pandora on a unique mission, but becomes torn between following orders and protecting an alien civilization.\"\u001b[0m\n",
            "Thought:\u001b[32;1m\u001b[1;3m I now know the final answer\n",
            "Final Answer: In the 22nd century, a paraplegic Marine is dispatched to the moon Pandora on a unique mission, but becomes torn between following orders and protecting an alien civilization.\u001b[0m\n",
            "\u001b[1m> Finished AgentExecutor chain.\u001b[0m\n"
          ]
        },
        {
          "output_type": "execute_result",
          "data": {
            "text/plain": [
              "'In the 22nd century, a paraplegic Marine is dispatched to the moon Pandora on a unique mission, but becomes torn between following orders and protecting an alien civilization.'"
            ],
            "application/vnd.google.colaboratory.intrinsic+json": {
              "type": "string"
            }
          },
          "metadata": {},
          "execution_count": 11
        }
      ]
    },
    {
      "cell_type": "code",
      "source": [
        "agent.run(\"what are the top tech headlines in the US.\")"
      ],
      "metadata": {
        "id": "XN7IhYkWApJr",
        "colab": {
          "base_uri": "https://localhost:8080/",
          "height": 326
        },
        "outputId": "f5241b47-7628-4f33-dc82-0ff361d10497"
      },
      "execution_count": null,
      "outputs": [
        {
          "output_type": "stream",
          "name": "stdout",
          "text": [
            "\n",
            "\n",
            "\u001b[1m> Entering new AgentExecutor chain...\u001b[0m\n",
            "\u001b[32;1m\u001b[1;3m I need to find a way to get the top tech headlines in the US.\n",
            "Action: Search\n",
            "Action Input: \"top tech headlines US\"\u001b[0m\n",
            "Observation: \u001b[33;1m\u001b[1;3mTop News Stories\u001b[0m\n",
            "Thought:\u001b[32;1m\u001b[1;3m I need to get the actual headlines\n",
            "Action: News API\n",
            "Action Input: \"What are the top tech headlines in the US?\"\u001b[0m\n",
            "Observation: \u001b[33;1m\u001b[1;3m This response from the API contains two articles about top tech headlines in the US. The first article is about Harold Edgerton's photograph of a bullet passing through an apple and how it changed photography forever. The second article is about video game pioneer John Carmack resigning from his consulting position at Meta.\u001b[0m\n",
            "Thought:\u001b[32;1m\u001b[1;3m I now know the final answer\n",
            "Final Answer: The top tech headlines in the US are about Harold Edgerton's photograph of a bullet passing through an apple and how it changed photography forever, and about video game pioneer John Carmack resigning from his consulting position at Meta.\u001b[0m\n",
            "\u001b[1m> Finished AgentExecutor chain.\u001b[0m\n"
          ]
        },
        {
          "output_type": "execute_result",
          "data": {
            "text/plain": [
              "\"The top tech headlines in the US are about Harold Edgerton's photograph of a bullet passing through an apple and how it changed photography forever, and about video game pioneer John Carmack resigning from his consulting position at Meta.\""
            ],
            "application/vnd.google.colaboratory.intrinsic+json": {
              "type": "string"
            }
          },
          "metadata": {},
          "execution_count": 12
        }
      ]
    },
    {
      "cell_type": "code",
      "source": [
        "question = \"On the desk, you see two blue booklets, two purple booklets, and two yellow pairs of sunglasses - if I remove all the pairs of sunglasses from the desk, how many purple items remain on it?\"\n",
        "agent.run(question)"
      ],
      "metadata": {
        "id": "dMBblkgWAz8k",
        "colab": {
          "base_uri": "https://localhost:8080/",
          "height": 236
        },
        "outputId": "a2880d1f-107e-4b64-9c84-a98e7ffd9958"
      },
      "execution_count": null,
      "outputs": [
        {
          "output_type": "stream",
          "name": "stdout",
          "text": [
            "\n",
            "\n",
            "\u001b[1m> Entering new AgentExecutor chain...\u001b[0m\n",
            "\u001b[32;1m\u001b[1;3m I need to reason about the position and color attributes of the objects on the desk.\n",
            "Action: PAL-COLOR-OBJ\n",
            "Action Input: On the desk, there are two blue booklets, two purple booklets, and two yellow pairs of sunglasses. If I remove all the pairs of sunglasses from the desk, how many purple items remain on it?\u001b[0m\n",
            "Observation: \u001b[33;1m\u001b[1;3m2\u001b[0m\n",
            "Thought:\u001b[32;1m\u001b[1;3m I now know the final answer\n",
            "Final Answer: 2 purple items remain on the desk.\u001b[0m\n",
            "\u001b[1m> Finished AgentExecutor chain.\u001b[0m\n"
          ]
        },
        {
          "output_type": "execute_result",
          "data": {
            "text/plain": [
              "'2 purple items remain on the desk.'"
            ],
            "application/vnd.google.colaboratory.intrinsic+json": {
              "type": "string"
            }
          },
          "metadata": {},
          "execution_count": 13
        }
      ]
    }
  ]
}